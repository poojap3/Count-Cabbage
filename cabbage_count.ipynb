{
 "cells": [
  {
   "cell_type": "code",
   "execution_count": null,
   "id": "1e84264b",
   "metadata": {},
   "outputs": [
    {
     "name": "stdout",
     "output_type": "stream",
     "text": [
      "cabbage in the image :  45\n"
     ]
    }
   ],
   "source": [
    "# Import libraries\n",
    "import cv2\n",
    "import numpy as np\n",
    "import matplotlib.pyplot as plt\n",
    "import imutils\n",
    "\n",
    "#read image\n",
    "image = cv2.imread('DJI_0431.JPG')\n",
    "# image = imutils.resize(image,width=720)\n",
    "#to convert image into color gray,blur, and get edge of image \n",
    "gray = cv2.cvtColor(image, cv2.COLOR_BGR2GRAY)\n",
    "kernel = np.ones((5, 5), np.uint8)\n",
    "blur = cv2.GaussianBlur(gray, (11, 11), 0)\n",
    "canny = cv2.Canny(blur, 50, 150, 3)\n",
    "\n",
    "# Dilatation \n",
    "dilated = cv2.dilate(canny,kernel, (1, 1),iterations=7)\n",
    "\n",
    "#count the detected contoured objects\n",
    "(cnt, hierarchy) = cv2.findContours(\n",
    "    dilated.copy(),cv2.RETR_EXTERNAL,cv2.CHAIN_APPROX_NONE)\n",
    "rgb = cv2.cvtColor(image, cv2.COLOR_BGR2RGB)\n",
    "cv2.drawContours(rgb, cnt, -1, (0, 255, 0), 3)\n",
    "\n",
    "\n",
    "print(\"cabbage in the image : \", len(cnt))\n",
    "\n",
    "#show the image\n",
    "# plt.subplot(221)\n",
    "# plt.title('DJI_0431.JPG')\n",
    "# plt.imshow(image)\n",
    "\n",
    "\n",
    "# cv2.imshow('Frame', image)\n",
    "image = imutils.resize(image,width=1080)\n",
    "cv2.imshow('Frame', image)\n",
    "\n",
    "\n",
    "\n",
    "# cv2.imshow('thresh_img',thresh)\n",
    "cv2.waitKey(0)\n",
    "cv2.destroyAllWindows()\n"
   ]
  },
  {
   "cell_type": "code",
   "execution_count": null,
   "id": "1b6d0da7",
   "metadata": {},
   "outputs": [],
   "source": []
  }
 ],
 "metadata": {
  "kernelspec": {
   "display_name": "Python 3 (ipykernel)",
   "language": "python",
   "name": "python3"
  },
  "language_info": {
   "codemirror_mode": {
    "name": "ipython",
    "version": 3
   },
   "file_extension": ".py",
   "mimetype": "text/x-python",
   "name": "python",
   "nbconvert_exporter": "python",
   "pygments_lexer": "ipython3",
   "version": "3.9.7"
  }
 },
 "nbformat": 4,
 "nbformat_minor": 5
}
